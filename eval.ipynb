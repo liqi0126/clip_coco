{
 "cells": [
  {
   "cell_type": "code",
   "execution_count": 10,
   "metadata": {},
   "outputs": [
    {
     "name": "stdout",
     "output_type": "stream",
     "text": [
      "loading annotations into memory...\n",
      "Done (t=0.03s)\n",
      "creating index...\n",
      "index created!\n",
      "loading annotations into memory...\n",
      "Done (t=0.70s)\n",
      "creating index...\n",
      "index created!\n",
      "loading annotations into memory...\n",
      "Done (t=0.24s)\n",
      "creating index...\n",
      "index created!\n",
      "[{'license': 4, 'file_name': '000000397133.jpg', 'coco_url': 'http://images.cocodataset.org/val2017/000000397133.jpg', 'height': 427, 'width': 640, 'date_captured': '2013-11-14 17:02:52', 'flickr_url': 'http://farm7.staticflickr.com/6116/6255196340_da26cf2c9e_z.jpg', 'id': 397133}]\n",
      "38\n",
      "[{'image_id': 179765, 'id': 38, 'caption': 'A black Honda motorcycle parked in front of a garage.'}]\n"
     ]
    }
   ],
   "source": [
    "import json\n",
    "from fire import Fire\n",
    "from pycocotools.coco import COCO\n",
    "\n",
    "\n",
    "data_root='./coco'\n",
    "task='instances'\n",
    "data_type='val2017'\n",
    "\n",
    "coco = COCO(f'{data_root}/annotations/captions_{data_type}.json')\n",
    "coco_instance = COCO(f'{data_root}/annotations/instances_{data_type}.json')\n",
    "coco_stuff = COCO(f'{data_root}/annotations/stuff_{data_type}.json')\n",
    "\n",
    "\n",
    "# image features\n",
    "with open(f'features/vit_L_14_336px_imgs_{data_type}.json', 'r') as f:\n",
    "    imgs_feature = json.load(f)\n",
    "\n",
    "# caption features\n",
    "with open(f'features/vit_L_14_336px_captions_{data_type}.json', 'r') as f:\n",
    "    caps_feature = json.load(f)\n",
    "\n",
    "# instances\n",
    "with open('features/vit_L_14_336px_instances_category.json', 'r') as f:\n",
    "    instances_cat_features = json.load(f)\n",
    "\n",
    "# instances\n",
    "with open('features/vit_L_14_336px_stuff_category.json', 'r') as f:\n",
    "    stuff_cat_features = json.load(f)\n",
    "\n",
    "img_id = coco.getImgIds()[0]\n",
    "print(coco.loadImgs(img_id))\n",
    "\n",
    "cap_id = coco.getAnnIds()[0]\n",
    "print(cap_id)\n",
    "print(coco.loadAnns(cap_id))"
   ]
  },
  {
   "cell_type": "code",
   "execution_count": 11,
   "metadata": {},
   "outputs": [
    {
     "name": "stdout",
     "output_type": "stream",
     "text": [
      "1\n",
      "[{'supercategory': 'person', 'id': 1, 'name': 'person'}]\n",
      "92\n",
      "[{'supercategory': 'textile', 'id': 92, 'name': 'banner'}]\n"
     ]
    }
   ],
   "source": [
    "cat_id = coco_instance.getCatIds()[0]\n",
    "print(cat_id)\n",
    "print(coco_instance.loadCats(cat_id))\n",
    "cat_id = coco_stuff.getCatIds()[0]\n",
    "print(cat_id)\n",
    "print(coco_stuff.loadCats(cat_id))"
   ]
  },
  {
   "cell_type": "code",
   "execution_count": 12,
   "metadata": {},
   "outputs": [],
   "source": [
    "caption_train = json.load(open('./coco/annotations/captions_train2017.json'))\n",
    "caption_val = json.load(open('./coco/annotations/captions_val2017.json'))"
   ]
  },
  {
   "cell_type": "code",
   "execution_count": 13,
   "metadata": {},
   "outputs": [
    {
     "data": {
      "text/plain": [
       "(118287, 591753)"
      ]
     },
     "execution_count": 13,
     "metadata": {},
     "output_type": "execute_result"
    }
   ],
   "source": [
    "len(caption_train['images']), len(caption_train['annotations'])"
   ]
  },
  {
   "cell_type": "code",
   "execution_count": 14,
   "metadata": {},
   "outputs": [
    {
     "data": {
      "text/plain": [
       "(118287, 591753)"
      ]
     },
     "execution_count": 14,
     "metadata": {},
     "output_type": "execute_result"
    }
   ],
   "source": [
    "len(caption_train['images']), len(caption_train['annotations'])\n",
    "# np.array(imgs['397133']).shape, np.array(captions['38']).shape"
   ]
  },
  {
   "cell_type": "markdown",
   "metadata": {},
   "source": [
    "# Start of eval functions"
   ]
  },
  {
   "cell_type": "code",
   "execution_count": 37,
   "metadata": {},
   "outputs": [
    {
     "name": "stdout",
     "output_type": "stream",
     "text": [
      "{'accuracy': 0.3333333333333333, 'precision': 0.375, 'f1': 0.42857142857142855}\n",
      "(3, 10) (3, 10)\n",
      "{'p@k': 1.0, 'ndcg': 0.9211020043354664}\n"
     ]
    }
   ],
   "source": [
    "# 1. For nearest neighbor queries (NN), we consider Precision, Recall, and F-1 to measure the effectiveness of similarity search;\n",
    "# 2.  For kNN queries (kNN), we use precision@k, and NDCG to measure the effectiveness of similarity search;\n",
    "\n",
    "from sklearn.metrics import ndcg_score\n",
    "import numpy as np\n",
    "from api import faiss_search\n",
    "import json\n",
    "\n",
    "def eval_nn(true_values, predictions):\n",
    "    N = true_values.shape[1]\n",
    "    accuracy = (true_values == predictions).sum() / N\n",
    "    TP = ((predictions == 1) & (true_values == 1)).sum()\n",
    "    FP = ((predictions == 1) & (true_values == 0)).sum()\n",
    "    FN = ((predictions == 0) & (true_values == 1)).sum()\n",
    "    precision = TP / (TP+FP)\n",
    "    recall = TP / (TP+FN)\n",
    "    return {\n",
    "        'accuracy': accuracy,\n",
    "        'precision': precision,\n",
    "        'f1': 2 * (precision * recall) / (precision + recall)\n",
    "    }\n",
    "\n",
    "\n",
    "def eval_knn(true_values, predicted_scores, k):\n",
    "    hits = 0\n",
    "    ndcg = []\n",
    "    results = []\n",
    "    for value, scores in zip(true_values, predicted_scores):\n",
    "        indices = scores.argsort()[-k:][::-1]\n",
    "        if value in indices:\n",
    "            hits += 1\n",
    "        true_prob_distribution = np.zeros_like(indices)\n",
    "        true_prob_distribution[value] = 1\n",
    "        results.append(true_prob_distribution)\n",
    "    # results = np.swapaxes(results, 0, 1)\n",
    "    results = np.array(results)\n",
    "    print(predicted_scores.shape, results.shape)\n",
    "    ndcg.append(ndcg_score(predicted_scores, results))\n",
    "    return {\n",
    "        'p@k': hits / len(true_values),\n",
    "        'ndcg': sum(ndcg) / len(ndcg)\n",
    "    }\n",
    "\n",
    "\n",
    "def evaluate(preds, gts, kNN=True, k=10):\n",
    "    if not kNN:\n",
    "        return eval_nn(preds, gts)\n",
    "    else:\n",
    "        return eval_knn(preds, gts, k=k)\n",
    "\n",
    "\n",
    "true_values = np.array([[1, 0, 1, 0, 1, 0, 0, 1, 1, 0, 1, 0]])\n",
    "predictions = np.array([[1, 1, 0, 1, 0, 1, 1, 1, 0, 1, 1, 0]])\n",
    "print(evaluate(true_values, predictions, kNN=False))\n",
    "\n",
    "# true_values = np.array([2, 11, 4])\n",
    "true_values = np.array([9, 1, 3])\n",
    "predictions = np.array([[0.05, 0.1, 0.1, 0.1, 0.1, 0.1, 0.1, 0.1, 0.1, 0.15], [0.1, 0.05, 0.15, 0.1, 0.1, 0.1, 0.1, 0.1, 0.1, 0.1], [0.15, 0.1, 0.1, 0.1, 0.1, 0.1, 0.1, 0.1, 0.02, 0.13]])\n",
    "\n",
    "print(evaluate(true_values, predictions, kNN=True))\n"
   ]
  },
  {
   "cell_type": "markdown",
   "metadata": {},
   "source": [
    "# Plug in dataset and fasii_search"
   ]
  },
  {
   "cell_type": "code",
   "execution_count": 17,
   "metadata": {},
   "outputs": [],
   "source": [
    "# @member who looks at dataset: provide the val dataset\n",
    "# dataset = ...\n",
    "for _id, repre in dataset.values():\n",
    "    pass\n",
    "    # ensemble faiss and call evaluate"
   ]
  },
  {
   "cell_type": "code",
   "execution_count": null,
   "metadata": {},
   "outputs": [],
   "source": []
  }
 ],
 "metadata": {
  "kernelspec": {
   "display_name": "Python 3.9.12 ('clip')",
   "language": "python",
   "name": "python3"
  },
  "language_info": {
   "codemirror_mode": {
    "name": "ipython",
    "version": 3
   },
   "file_extension": ".py",
   "mimetype": "text/x-python",
   "name": "python",
   "nbconvert_exporter": "python",
   "pygments_lexer": "ipython3",
   "version": "3.9.12"
  },
  "orig_nbformat": 4,
  "vscode": {
   "interpreter": {
    "hash": "6e4e9d6bc288cf444ef86ae96f6f38c5d289fef06b3a305ac2da6eaa99ef17cf"
   }
  }
 },
 "nbformat": 4,
 "nbformat_minor": 2
}
